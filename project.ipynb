{
 "cells": [
  {
   "cell_type": "code",
   "execution_count": null,
   "id": "ac427e8f",
   "metadata": {},
   "outputs": [],
   "source": [
    "import pandas as pd\n",
    "import numpy as np \n",
    "import matplotlib.pyplot as plt\n",
    "import seaborn as sns\n",
    "from itertools import combinations\n",
    "from sklearn.metrics import accuracy_score, classification_report\n",
    "from sklearn.model_selection import train_test_split\n",
    "from sklearn.tree import DecisionTreeClassifier\n",
    "from sklearn.metrics import accuracy_score, classification_report"
   ]
  },
  {
   "cell_type": "code",
   "execution_count": null,
   "id": "08462134",
   "metadata": {},
   "outputs": [],
   "source": [
    "df =pd.read_csv(\"data.csv\")\n",
    "df"
   ]
  },
  {
   "cell_type": "code",
   "execution_count": null,
   "id": "0cc5c273",
   "metadata": {},
   "outputs": [],
   "source": [
    "df.dtypes"
   ]
  },
  {
   "cell_type": "code",
   "execution_count": null,
   "id": "3e8c68e1",
   "metadata": {},
   "outputs": [],
   "source": [
    "df.describe()"
   ]
  },
  {
   "cell_type": "code",
   "execution_count": null,
   "id": "bfeade15",
   "metadata": {},
   "outputs": [],
   "source": [
    "df.duplicated().sum()"
   ]
  },
  {
   "cell_type": "code",
   "execution_count": null,
   "id": "43fac03d",
   "metadata": {},
   "outputs": [],
   "source": [
    "df.isnull().sum()"
   ]
  },
  {
   "cell_type": "code",
   "execution_count": null,
   "id": "8b1a1446",
   "metadata": {},
   "outputs": [],
   "source": [
    "df.drop(\"Unnamed: 32\", axis=1, inplace=True)"
   ]
  },
  {
   "cell_type": "code",
   "execution_count": null,
   "id": "896ab77b",
   "metadata": {},
   "outputs": [],
   "source": [
    "df.isnull().sum()"
   ]
  },
  {
   "cell_type": "code",
   "execution_count": null,
   "id": "431a44fa",
   "metadata": {},
   "outputs": [],
   "source": [
    "df['diagnosis'].value_counts().plot(kind='bar', color=['blue', 'orange'])\n"
   ]
  },
  {
   "cell_type": "code",
   "execution_count": null,
   "id": "987fa48a",
   "metadata": {},
   "outputs": [],
   "source": [
    "df.columns"
   ]
  },
  {
   "cell_type": "code",
   "execution_count": null,
   "id": "aceb4dec",
   "metadata": {},
   "outputs": [],
   "source": [
    "df[['id', 'diagnosis', 'radius_mean', 'texture_mean', 'perimeter_mean',\n",
    "       'area_mean', 'smoothness_mean', 'compactness_mean', 'concavity_mean',\n",
    "       'concave points_mean', 'symmetry_mean', 'fractal_dimension_mean',\n",
    "       'radius_se', 'texture_se', 'perimeter_se', 'area_se', 'smoothness_se',\n",
    "       'compactness_se', 'concavity_se', 'concave points_se', 'symmetry_se',\n",
    "       'fractal_dimension_se', 'radius_worst', 'texture_worst',\n",
    "       'perimeter_worst', 'area_worst', 'smoothness_worst',\n",
    "       'compactness_worst', 'concavity_worst', 'concave points_worst',\n",
    "       'symmetry_worst', 'fractal_dimension_worst']].nunique()"
   ]
  },
  {
   "cell_type": "code",
   "execution_count": null,
   "id": "4f1a549a",
   "metadata": {},
   "outputs": [],
   "source": [
    "plt.figure(figsize=(18, 14))\n",
    "numeric_df = df.select_dtypes(include=[np.number]) \n",
    "sns.heatmap(numeric_df.corr(), annot=False, cmap='coolwarm')\n",
    "plt.title('Correlation Matrix Heatmap')\n",
    "plt.show()"
   ]
  },
  {
   "cell_type": "code",
   "execution_count": null,
   "id": "5627756e",
   "metadata": {},
   "outputs": [],
   "source": [
    "sns.pairplot(df[['radius_mean', 'texture_mean', 'perimeter_mean', 'area_mean', 'smoothness_mean', 'diagnosis']])\n",
    "plt.show()"
   ]
  },
  {
   "cell_type": "code",
   "execution_count": null,
   "id": "53bfde93",
   "metadata": {},
   "outputs": [],
   "source": [
    "features = ['radius_mean', 'texture_mean', 'perimeter_mean', 'area_mean', 'smoothness_mean']\n",
    "plt.figure(figsize=(15, 8))\n",
    "for i, col in enumerate(features):\n",
    "    plt.subplot(2, 3, i+1)\n",
    "    sns.boxplot(x='diagnosis', y=col, data=df)\n",
    "    plt.title(f'{col} vs diagnosis')\n",
    "plt.tight_layout()\n",
    "plt.show()"
   ]
  },
  {
   "cell_type": "code",
   "execution_count": null,
   "id": "40d6a5fb",
   "metadata": {},
   "outputs": [],
   "source": [
    "for col in features:\n",
    "    plt.figure(figsize=(6, 4))\n",
    "    sns.histplot(data=df, x=col, hue='diagnosis', kde=True, element=\"step\")\n",
    "    plt.title(f'Distribution of {col} by diagnosis')\n",
    "    plt.show()"
   ]
  },
  {
   "cell_type": "code",
   "execution_count": null,
   "id": "cd126abc",
   "metadata": {},
   "outputs": [],
   "source": [
    "sns.pairplot(df[features + ['diagnosis']], hue='diagnosis')\n",
    "plt.show()"
   ]
  },
  {
   "cell_type": "code",
   "execution_count": null,
   "id": "1748f8ff",
   "metadata": {},
   "outputs": [],
   "source": [
    "float_cols = [col for col in df.columns if df[col].dtype == 'float64']\n",
    "\n",
    "plt.figure(figsize=(18, 3 * len(float_cols)))\n",
    "for i, col in enumerate(float_cols):\n",
    "    plt.subplot(len(float_cols)//3 + 1, 3, i+1)\n",
    "    sns.boxplot(x='diagnosis', y=col, data=df)\n",
    "    plt.title(f'{col} vs diagnosis')\n",
    "plt.tight_layout()\n",
    "plt.show()"
   ]
  },
  {
   "cell_type": "code",
   "execution_count": null,
   "id": "71579e75",
   "metadata": {},
   "outputs": [],
   "source": [
    "float_cols = [col for col in df.columns if df[col].dtype == 'float64']\n",
    "pairs = list(combinations(float_cols, 2))\n",
    "\n",
    "n_cols = 5\n",
    "n_rows = (len(pairs) + n_cols - 1) // n_cols\n",
    "\n",
    "fig, axes = plt.subplots(n_rows, n_cols, figsize=(n_cols*5, n_rows*4))\n",
    "axes = axes.flatten()\n",
    "\n",
    "for i, (x_col, y_col) in enumerate(pairs):\n",
    "    sns.scatterplot(data=df, x=x_col, y=y_col, hue='diagnosis', palette='Set1', alpha=0.7, ax=axes[i])\n",
    "    axes[i].set_title(f'{x_col} vs {y_col}')\n",
    "    axes[i].legend().set_title('diagnosis')\n",
    "    axes[i].set_xlabel(x_col)\n",
    "    axes[i].set_ylabel(y_col)\n",
    "for j in range(i+1, len(axes)):\n",
    "    axes[j].set_visible(False)\n",
    "\n",
    "plt.tight_layout()\n",
    "plt.show()"
   ]
  },
  {
   "cell_type": "code",
   "execution_count": null,
   "id": "e26bd8bd",
   "metadata": {},
   "outputs": [],
   "source": [
    "X = df[[col for col in df.columns if col not in ['id', 'diagnosis']]]\n",
    "y = df['diagnosis'].map({'M': 1, 'B': 0})  \n",
    "\n",
    "X_train, X_test, y_train, y_test = train_test_split(X, y, test_size=0.2, random_state=42)\n",
    "\n",
    "clf = DecisionTreeClassifier(random_state=42)\n",
    "clf.fit(X_train, y_train)\n",
    "\n",
    "y_pred = clf.predict(X_test)\n",
    "print(\"الدقة:\", accuracy_score(y_test, y_pred))\n",
    "print(classification_report(y_test, y_pred))"
   ]
  },
  {
   "cell_type": "code",
   "execution_count": null,
   "id": "791c9c81",
   "metadata": {},
   "outputs": [],
   "source": [
    "accuracy = accuracy_score(y_test, y_pred)\n",
    "report = classification_report(y_test, y_pred)\n",
    "\n",
    "with open(\"model_results.txt\", \"w\", encoding=\"utf-8\") as f:\n",
    "    f.write(f\"الدقة: {accuracy}\\n\")\n",
    "    f.write(report)\n",
    "print(\"model_results.txt\")"
   ]
  },
  {
   "cell_type": "code",
   "execution_count": null,
   "id": "d46b3137",
   "metadata": {},
   "outputs": [],
   "source": [
    "import joblib\n",
    "joblib.dump(clf, \"tree_model.pkl\")"
   ]
  },
  {
   "cell_type": "code",
   "execution_count": null,
   "id": "174e0f4b",
   "metadata": {},
   "outputs": [],
   "source": [
    "import pkg_resources\n",
    "\n",
    "packages = [\n",
    "    \"streamlit\",\n",
    "    \"pandas\",\n",
    "    \"scikit-learn\",\n",
    "    \"joblib\",\n",
    "    \"altair\",\n",
    "    \"numpy\",\n",
    "    \"matplotlib\",\n",
    "    \"seaborn\",\n",
    "    \"itertools\",\n",
    "    \"sklearn.metrics\",  \n",
    "    \"sklearn.model_selection\",\n",
    "    \"sklearn.tree\",\n",
    "]\n",
    "\n",
    "with open(\"requirements.txt\", \"w\") as f:\n",
    "    for package in packages:\n",
    "        try:\n",
    "            version = pkg_resources.get_distribution(package).version\n",
    "            f.write(f\"{package}=={version}\\n\")\n",
    "        except pkg_resources.DistributionNotFound:\n",
    "            print(f\"[!] Package '{package}' not found. Skipping.\")"
   ]
  }
 ],
 "metadata": {
  "kernelspec": {
   "display_name": "Python 3",
   "language": "python",
   "name": "python3"
  },
  "language_info": {
   "codemirror_mode": {
    "name": "ipython",
    "version": 3
   },
   "file_extension": ".py",
   "mimetype": "text/x-python",
   "name": "python",
   "nbconvert_exporter": "python",
   "pygments_lexer": "ipython3",
   "version": "3.11.9"
  }
 },
 "nbformat": 4,
 "nbformat_minor": 5
}
